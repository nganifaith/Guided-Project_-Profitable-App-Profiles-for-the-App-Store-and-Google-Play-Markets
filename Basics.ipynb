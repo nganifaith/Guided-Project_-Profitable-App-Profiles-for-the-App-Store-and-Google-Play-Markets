{
 "cells": [
  {
   "cell_type": "markdown",
   "metadata": {},
   "source": [
    "Play store and App store Apps profitable\n"
   ]
  },
  {
   "cell_type": "markdown",
   "metadata": {},
   "source": [
    "This project trails to analysis the profit of apps produced by a company on the two major mobile phone stores that is Apps store for iOS phones and Play store for Android phones"
   ]
  },
  {
   "cell_type": "code",
   "execution_count": 1,
   "metadata": {
    "collapsed": true
   },
   "outputs": [],
   "source": [
    "#importing the necessary module\n",
    "from csv import reader"
   ]
  },
  {
   "cell_type": "code",
   "execution_count": 2,
   "metadata": {
    "collapsed": true
   },
   "outputs": [],
   "source": [
    "#Reading the various file into our program\n",
    "\n",
    "#Reading the app store dataset of july 2017\n",
    "#We will read the header as a list and the main dataset as another list\n",
    "\n",
    "ios_file = open('AppleStore.csv', encoding ='utf8' )\n",
    "ios_data = reader(ios_file)\n",
    "ios = list(ios_data)\n",
    "\n",
    "ios_header = ios[0]\n",
    "ios_apps = ios[1:]\n",
    "\n",
    "#reading the android data set file\n",
    "\n",
    "android_file = open('googleplaystore.csv', encoding = 'utf8')\n",
    "android_data = reader(android_file)\n",
    "android = list(android_data)\n",
    "\n",
    "android_header = android[0]\n",
    "android_apps = android[1:]\n",
    "\n",
    "#Explore function which will help us better understand our datasets\n",
    "\n",
    "def explore_data(dataset, start, end, rows_and_columns=False):\n",
    "    dataset_slice = dataset[start:end]\n",
    "    for row in dataset_slice:\n",
    "        print(row)\n",
    "        print('\\n')\n",
    "        \n",
    "    if rows_and_columns:\n",
    "        print('Number of rows:', len(dataset))\n",
    "        print('Number of columns:', len(dataset[0]))"
   ]
  },
  {
   "cell_type": "code",
   "execution_count": 3,
   "metadata": {
    "collapsed": false
   },
   "outputs": [
    {
     "name": "stdout",
     "output_type": "stream",
     "text": [
      "['id', 'track_name', 'size_bytes', 'currency', 'price', 'rating_count_tot', 'rating_count_ver', 'user_rating', 'user_rating_ver', 'ver', 'cont_rating', 'prime_genre', 'sup_devices.num', 'ipadSc_urls.num', 'lang.num', 'vpp_lic']\n",
      "\n",
      "\n",
      "['284882215', 'Facebook', '389879808', 'USD', '0.0', '2974676', '212', '3.5', '3.5', '95.0', '4+', 'Social Networking', '37', '1', '29', '1']\n",
      "\n",
      "\n",
      "['389801252', 'Instagram', '113954816', 'USD', '0.0', '2161558', '1289', '4.5', '4.0', '10.23', '12+', 'Photo & Video', '37', '0', '29', '1']\n",
      "\n",
      "\n",
      "['529479190', 'Clash of Clans', '116476928', 'USD', '0.0', '2130805', '579', '4.5', '4.5', '9.24.12', '9+', 'Games', '38', '5', '18', '1']\n",
      "\n",
      "\n",
      "['420009108', 'Temple Run', '65921024', 'USD', '0.0', '1724546', '3842', '4.5', '4.0', '1.6.2', '9+', 'Games', '40', '5', '1', '1']\n",
      "\n",
      "\n",
      "['284035177', 'Pandora - Music & Radio', '130242560', 'USD', '0.0', '1126879', '3594', '4.0', '4.5', '8.4.1', '12+', 'Music', '37', '4', '1', '1']\n",
      "\n",
      "\n",
      "Number of rows: 7197\n",
      "Number of columns: 16\n"
     ]
    }
   ],
   "source": [
    "#Printing values form our functions above. We will start with \n",
    "#data from the iOS dataser\n",
    "\n",
    "print(ios_header)\n",
    "print('\\n')\n",
    "explore_data(ios_apps, 0, 5, True)"
   ]
  },
  {
   "cell_type": "code",
   "execution_count": 4,
   "metadata": {
    "collapsed": false
   },
   "outputs": [
    {
     "name": "stdout",
     "output_type": "stream",
     "text": [
      "['App', 'Category', 'Rating', 'Reviews', 'Size', 'Installs', 'Type', 'Price', 'Content Rating', 'Genres', 'Last Updated', 'Current Ver', 'Android Ver']\n",
      "\n",
      "\n",
      "['Photo Editor & Candy Camera & Grid & ScrapBook', 'ART_AND_DESIGN', '4.1', '159', '19M', '10,000+', 'Free', '0', 'Everyone', 'Art & Design', 'January 7, 2018', '1.0.0', '4.0.3 and up']\n",
      "\n",
      "\n",
      "['Coloring book moana', 'ART_AND_DESIGN', '3.9', '967', '14M', '500,000+', 'Free', '0', 'Everyone', 'Art & Design;Pretend Play', 'January 15, 2018', '2.0.0', '4.0.3 and up']\n",
      "\n",
      "\n",
      "['U Launcher Lite – FREE Live Cool Themes, Hide Apps', 'ART_AND_DESIGN', '4.7', '87510', '8.7M', '5,000,000+', 'Free', '0', 'Everyone', 'Art & Design', 'August 1, 2018', '1.2.4', '4.0.3 and up']\n",
      "\n",
      "\n",
      "Number of rows: 10841\n",
      "Number of columns: 13\n"
     ]
    }
   ],
   "source": [
    "#Printing data from the android dataset\n",
    "print(android_header)\n",
    "print('\\n')\n",
    "explore_data(android_apps, 0, 3, True)"
   ]
  },
  {
   "cell_type": "code",
   "execution_count": 5,
   "metadata": {
    "collapsed": false
   },
   "outputs": [
    {
     "data": {
      "text/plain": [
       "['Life Made WI-Fi Touchscreen Photo Frame',\n",
       " '1.9',\n",
       " '19',\n",
       " '3.0M',\n",
       " '1,000+',\n",
       " 'Free',\n",
       " '0',\n",
       " 'Everyone',\n",
       " '',\n",
       " 'February 11, 2018',\n",
       " '1.0.19',\n",
       " '4.0 and up']"
      ]
     },
     "execution_count": 5,
     "metadata": {},
     "output_type": "execute_result"
    }
   ],
   "source": [
    "#got the row with an error orr the discussion thread of google play store apps\n",
    "android_apps[10472]"
   ]
  },
  {
   "cell_type": "code",
   "execution_count": 6,
   "metadata": {
    "collapsed": false
   },
   "outputs": [
    {
     "name": "stdout",
     "output_type": "stream",
     "text": [
      "10472\n"
     ]
    }
   ],
   "source": [
    "#this is a method that returns the index of rows with erros\n",
    "for row in android_apps:\n",
    "    header_len = len(android_header)\n",
    "    row_len = len(row)\n",
    "    if row_len != header_len:\n",
    "        print(android_apps.index(row))\n"
   ]
  },
  {
   "cell_type": "code",
   "execution_count": 7,
   "metadata": {
    "collapsed": true
   },
   "outputs": [],
   "source": [
    "del android_apps[10472]"
   ]
  },
  {
   "cell_type": "code",
   "execution_count": 8,
   "metadata": {
    "collapsed": true
   },
   "outputs": [],
   "source": [
    "for row in ios_apps:\n",
    "    header_len = len(ios_header)\n",
    "    row_len = len(row)\n",
    "    if row_len != header_len:\n",
    "        print(ios_apps.index(row))"
   ]
  },
  {
   "cell_type": "markdown",
   "metadata": {},
   "source": [
    "from the above we noticed the for loop did returned anything implying the apple dataset doesn't contain a role with an error.\n",
    "\n",
    "We will write a generic funtion below that takes two data sets. that is the main datasets with the header and the header file."
   ]
  },
  {
   "cell_type": "code",
   "execution_count": 9,
   "metadata": {
    "collapsed": false
   },
   "outputs": [],
   "source": [
    "def error_dectetor(dataset, header):\n",
    "    rows = []\n",
    "    for row in dataset:\n",
    "        header_len = len(header)\n",
    "        row_len = len(row)\n",
    "        if row_len != header_len:\n",
    "            rows.append(dataset.index(row))\n",
    "    return rows\n"
   ]
  },
  {
   "cell_type": "markdown",
   "metadata": {},
   "source": [
    "# # Removing duplicate entry from the datasets.\n",
    "\n",
    "Part One. Proving to the user that the dataset contain duplicate entries. \n",
    "##### our default dataset id the android_apps"
   ]
  },
  {
   "cell_type": "code",
   "execution_count": 10,
   "metadata": {
    "collapsed": false
   },
   "outputs": [
    {
     "name": "stdout",
     "output_type": "stream",
     "text": [
      "['Instagram', 'SOCIAL', '4.5', '66577313', 'Varies with device', '1,000,000,000+', 'Free', '0', 'Teen', 'Social', 'July 31, 2018', 'Varies with device', 'Varies with device']\n",
      "['Instagram', 'SOCIAL', '4.5', '66577446', 'Varies with device', '1,000,000,000+', 'Free', '0', 'Teen', 'Social', 'July 31, 2018', 'Varies with device', 'Varies with device']\n",
      "['Instagram', 'SOCIAL', '4.5', '66577313', 'Varies with device', '1,000,000,000+', 'Free', '0', 'Teen', 'Social', 'July 31, 2018', 'Varies with device', 'Varies with device']\n",
      "['Instagram', 'SOCIAL', '4.5', '66509917', 'Varies with device', '1,000,000,000+', 'Free', '0', 'Teen', 'Social', 'July 31, 2018', 'Varies with device', 'Varies with device']\n"
     ]
    }
   ],
   "source": [
    "#A generic funtion to determine duplicate entry in any of the dataset\n",
    "\n",
    "def duplicate_app(app_name, dataset = android_apps):\n",
    "    for app in dataset:\n",
    "        name = app[0]\n",
    "        if name == app_name:\n",
    "            print(app)\n",
    "duplicate_app('Instagram')"
   ]
  },
  {
   "cell_type": "markdown",
   "metadata": {},
   "source": [
    "### determining the number of duplicated apps"
   ]
  },
  {
   "cell_type": "code",
   "execution_count": 11,
   "metadata": {
    "collapsed": false
   },
   "outputs": [
    {
     "name": "stdout",
     "output_type": "stream",
     "text": [
      "Number of duplicated apps is:  0\n"
     ]
    }
   ],
   "source": [
    "\n",
    "def duplicated_apps(dataset = android_apps):\n",
    "    unique_apps = []\n",
    "    duplicate_apps = []\n",
    "    for app in dataset:\n",
    "        name = app[0]\n",
    "        if name in unique_apps:\n",
    "            duplicate_apps.append(name)\n",
    "        else:\n",
    "            unique_apps.append(name)\n",
    "    print('Number of duplicated apps is: ', len(duplicate_apps))\n",
    "\n",
    "duplicated_apps(ios_apps)"
   ]
  },
  {
   "cell_type": "code",
   "execution_count": 12,
   "metadata": {
    "collapsed": false
   },
   "outputs": [],
   "source": [
    "duplicate_apps = []\n",
    "unique_apps = []\n",
    "\n",
    "for apps in android_apps:\n",
    "    name = apps[0]\n",
    "    if name in unique_apps:\n",
    "        duplicate_apps.append(name)\n",
    "    else:\n",
    "        unique_apps.append(name)"
   ]
  },
  {
   "cell_type": "markdown",
   "metadata": {
    "collapsed": true
   },
   "source": [
    "## Part two\n",
    "Building the dictionary to filter out apps which are duplicated. We will use the review column of of our dataset and return the with the highest review."
   ]
  },
  {
   "cell_type": "code",
   "execution_count": 13,
   "metadata": {
    "collapsed": true
   },
   "outputs": [],
   "source": [
    "review_apps = {}\n",
    "for apps in android_apps:\n",
    "    review = float(apps[3])\n",
    "    name = apps[0]\n",
    "    if name in review_apps and review_apps[name] < review:\n",
    "        review_apps[name] = review\n",
    "    elif name not in review_apps:\n",
    "        review_apps[name] = review\n",
    "    "
   ]
  },
  {
   "cell_type": "code",
   "execution_count": 14,
   "metadata": {
    "collapsed": false
   },
   "outputs": [
    {
     "data": {
      "text/plain": [
       "9659"
      ]
     },
     "execution_count": 14,
     "metadata": {},
     "output_type": "execute_result"
    }
   ],
   "source": [
    "len(android_apps)\n",
    "len(review_apps)"
   ]
  },
  {
   "cell_type": "markdown",
   "metadata": {},
   "source": [
    "Right now we will be creating two dataset. One contains the dataset without duplicate and the other contain files that have already been added"
   ]
  },
  {
   "cell_type": "code",
   "execution_count": 15,
   "metadata": {
    "collapsed": false
   },
   "outputs": [],
   "source": [
    "android_clean = []\n",
    "already_added = []\n",
    "\n",
    "for app in android_apps:\n",
    "    name = app[0]\n",
    "    n_reviews = float(app[3])\n",
    "    if (review_apps[name] == n_reviews) and (name not in already_added):\n",
    "        android_clean.append(app)\n",
    "        already_added.append(name)"
   ]
  },
  {
   "cell_type": "code",
   "execution_count": 16,
   "metadata": {
    "collapsed": false
   },
   "outputs": [
    {
     "name": "stdout",
     "output_type": "stream",
     "text": [
      "['Photo Editor & Candy Camera & Grid & ScrapBook', 'ART_AND_DESIGN', '4.1', '159', '19M', '10,000+', 'Free', '0', 'Everyone', 'Art & Design', 'January 7, 2018', '1.0.0', '4.0.3 and up']\n",
      "\n",
      "\n",
      "['U Launcher Lite – FREE Live Cool Themes, Hide Apps', 'ART_AND_DESIGN', '4.7', '87510', '8.7M', '5,000,000+', 'Free', '0', 'Everyone', 'Art & Design', 'August 1, 2018', '1.2.4', '4.0.3 and up']\n",
      "\n",
      "\n",
      "['Sketch - Draw & Paint', 'ART_AND_DESIGN', '4.5', '215644', '25M', '50,000,000+', 'Free', '0', 'Teen', 'Art & Design', 'June 8, 2018', 'Varies with device', '4.2 and up']\n",
      "\n",
      "\n",
      "Number of rows: 9659\n",
      "Number of columns: 13\n"
     ]
    }
   ],
   "source": [
    "explore_data(android_clean, 0, 3, True)"
   ]
  },
  {
   "cell_type": "markdown",
   "metadata": {
    "collapsed": true
   },
   "source": [
    "function to return True is characters belong to the English set False other wise"
   ]
  },
  {
   "cell_type": "code",
   "execution_count": 17,
   "metadata": {
    "collapsed": false
   },
   "outputs": [
    {
     "name": "stdout",
     "output_type": "stream",
     "text": [
      "True\n",
      "False\n",
      "True\n",
      "True\n"
     ]
    }
   ],
   "source": [
    "def is_english(string):\n",
    "    non_ascii = 0\n",
    "    for character in string:\n",
    "        if ord(character) > 127:\n",
    "            non_ascii += 1\n",
    "    if non_ascii > 3:\n",
    "        return False\n",
    "    else:\n",
    "        return True\n",
    "\n",
    "print(is_english('Instagram'))\n",
    "print(is_english('爱奇艺PPS -《欢乐颂2》电视剧热播'))\n",
    "print(is_english('Docs To Go™ Free Office Suite'))\n",
    "print(is_english('Instachat 😜'))"
   ]
  },
  {
   "cell_type": "code",
   "execution_count": 18,
   "metadata": {
    "collapsed": false
   },
   "outputs": [
    {
     "name": "stdout",
     "output_type": "stream",
     "text": [
      "['Photo Editor & Candy Camera & Grid & ScrapBook', 'ART_AND_DESIGN', '4.1', '159', '19M', '10,000+', 'Free', '0', 'Everyone', 'Art & Design', 'January 7, 2018', '1.0.0', '4.0.3 and up']\n",
      "\n",
      "\n",
      "['U Launcher Lite – FREE Live Cool Themes, Hide Apps', 'ART_AND_DESIGN', '4.7', '87510', '8.7M', '5,000,000+', 'Free', '0', 'Everyone', 'Art & Design', 'August 1, 2018', '1.2.4', '4.0.3 and up']\n",
      "\n",
      "\n",
      "['Sketch - Draw & Paint', 'ART_AND_DESIGN', '4.5', '215644', '25M', '50,000,000+', 'Free', '0', 'Teen', 'Art & Design', 'June 8, 2018', 'Varies with device', '4.2 and up']\n",
      "\n",
      "\n",
      "Number of rows: 9614\n",
      "Number of columns: 13\n",
      "\n",
      "\n",
      "['284882215', 'Facebook', '389879808', 'USD', '0.0', '2974676', '212', '3.5', '3.5', '95.0', '4+', 'Social Networking', '37', '1', '29', '1']\n",
      "\n",
      "\n",
      "['389801252', 'Instagram', '113954816', 'USD', '0.0', '2161558', '1289', '4.5', '4.0', '10.23', '12+', 'Photo & Video', '37', '0', '29', '1']\n",
      "\n",
      "\n",
      "['529479190', 'Clash of Clans', '116476928', 'USD', '0.0', '2130805', '579', '4.5', '4.5', '9.24.12', '9+', 'Games', '38', '5', '18', '1']\n",
      "\n",
      "\n",
      "Number of rows: 6183\n",
      "Number of columns: 16\n"
     ]
    }
   ],
   "source": [
    "android_english_apps = []\n",
    "ios_english_apps = []\n",
    "\n",
    "for app in android_clean:\n",
    "    name = app[0]\n",
    "    if is_english(name):\n",
    "        android_english_apps.append(app)\n",
    "for app in ios_apps:\n",
    "    name = app[1]\n",
    "    if is_english(name):\n",
    "        ios_english_apps.append(app)\n",
    "        \n",
    "explore_data(android_english_apps, 0, 3, True)\n",
    "print('\\n')\n",
    "explore_data(ios_english_apps, 0, 3, True)"
   ]
  },
  {
   "cell_type": "markdown",
   "metadata": {
    "collapsed": true
   },
   "source": [
    "## Get free apps in the data sets\n"
   ]
  },
  {
   "cell_type": "markdown",
   "metadata": {},
   "source": [
    "To obtain the free apps in the dataset we use the price column and return rows where price == 0.\n",
    "\n",
    "First we create two empty datasets. \n",
    "We then loop thru the data set and append apps which pass the condition. \n",
    "\n"
   ]
  },
  {
   "cell_type": "code",
   "execution_count": 25,
   "metadata": {
    "collapsed": false
   },
   "outputs": [
    {
     "name": "stdout",
     "output_type": "stream",
     "text": [
      "8864\n",
      "3222\n"
     ]
    }
   ],
   "source": [
    "android_final = []\n",
    "ios_final = []\n",
    "\n",
    "for apps in android_english_apps:\n",
    "    price = apps[7]\n",
    "    if price == '0':\n",
    "        android_final.append(apps)\n",
    "for apps in ios_english_apps:\n",
    "    price = apps[4]\n",
    "    if price == '0.0':\n",
    "        ios_final.append(apps)\n",
    "        \n",
    "print(len(android_final))\n",
    "print(len(ios_final))"
   ]
  },
  {
   "cell_type": "markdown",
   "metadata": {},
   "source": [
    "# Most apps by Genre\n",
    "### part one\n",
    "\n",
    "As we mentioned in the introduction, our aim is to determine the kinds of apps that are likely to attract more users because our revenue is highly influenced by the number of people using our apps.\n",
    "\n",
    "To minimize risks and overhead, our validation strategy for an app idea is comprised of three steps:\n",
    "\n",
    "Build a minimal Android version of the app, and add it to Google Play.\n",
    "If the app has a good response from users, we develop it further.\n",
    "If the app is profitable after six months, we build an iOS version of the app and add it to the App Store.\n",
    "Because our end goal is to add the app on both Google Play and the App Store, we need to find app profiles that are successful on both markets. For instance, a profile that works well for both markets might be a productivity app that makes use of gamification.\n",
    "\n",
    "Let's begin the analysis by getting a sense of what are the most common genres for each market. For this, we'll need to build frequency tables for a few columns in our data sets."
   ]
  },
  {
   "cell_type": "markdown",
   "metadata": {},
   "source": [
    "### Part two\n",
    "\n",
    "We will begin by building functions to generate the frequency of genre"
   ]
  },
  {
   "cell_type": "code",
   "execution_count": 31,
   "metadata": {
    "collapsed": true
   },
   "outputs": [],
   "source": [
    "def freq_table(dataset, index):\n",
    "    total = 0\n",
    "    table = {}\n",
    "    for row in dataset:\n",
    "        total += 1\n",
    "        value = row[index]\n",
    "        if value in table:\n",
    "            table[value] += 1\n",
    "        else:\n",
    "            table[value] = 1\n",
    "    \n",
    "    table_percentages = {}\n",
    "    for key in table:\n",
    "        percentage = (table[key] / total) * 100\n",
    "        table_percentages[key] = percentage\n",
    "    \n",
    "    return table_percentages\n",
    "\n",
    "def display_freq(dataset, index):\n",
    "    table = freq_table(dataset, index)\n",
    "    table_display = []\n",
    "    for key in table:\n",
    "        key_val_as_tuple = (table[key], key)\n",
    "        table_display.append(key_val_as_tuple)\n",
    "        \n",
    "    table_sorted = sorted(table_display, reverse = True)\n",
    "    for entry in table_sorted:\n",
    "        print(entry[1], ':', entry[0])\n",
    "    \n"
   ]
  },
  {
   "cell_type": "markdown",
   "metadata": {},
   "source": [
    "### part three.\n",
    "Displaying the frequency table for the prime_genre"
   ]
  },
  {
   "cell_type": "code",
   "execution_count": 32,
   "metadata": {
    "collapsed": false
   },
   "outputs": [
    {
     "name": "stdout",
     "output_type": "stream",
     "text": [
      "Games : 58.16263190564867\n",
      "Entertainment : 7.883302296710118\n",
      "Photo & Video : 4.9658597144630665\n",
      "Education : 3.662321539416512\n",
      "Social Networking : 3.2898820608317814\n",
      "Shopping : 2.60707635009311\n",
      "Utilities : 2.5139664804469275\n",
      "Sports : 2.1415270018621975\n",
      "Music : 2.0484171322160147\n",
      "Health & Fitness : 2.0173805090006205\n",
      "Productivity : 1.7380509000620732\n",
      "Lifestyle : 1.5828677839851024\n",
      "News : 1.3345747982619491\n",
      "Travel : 1.2414649286157666\n",
      "Finance : 1.1173184357541899\n",
      "Weather : 0.8690254500310366\n",
      "Food & Drink : 0.8069522036002483\n",
      "Reference : 0.5586592178770949\n",
      "Business : 0.5276225946617008\n",
      "Book : 0.4345127250155183\n",
      "Navigation : 0.186219739292365\n",
      "Medical : 0.186219739292365\n",
      "Catalogs : 0.12414649286157665\n"
     ]
    }
   ],
   "source": [
    "display_freq(ios_final, -5)"
   ]
  },
  {
   "cell_type": "markdown",
   "metadata": {},
   "source": [
    "From our frequency table we see that more than 58% of free english apps on Apps store are games. Entertaiment apps make up about 7.88%. these apps are followed by photo and video apps, education and social networking apps which make up about 10% of total apps.\n",
    "\n",
    "General impression is apps that do well are apps designed for fun that is Games, photo and video, social networking. Where apps designed for practical purposes don't really do well on apps store. Free practical purpose apps on App store don't really do well as compared to apps menat for fun.\n",
    "\n",
    "However, we can't possible make a conclusion based on the frequency table. We require further investigation into the datasets before we can recommend an app to the market."
   ]
  },
  {
   "cell_type": "markdown",
   "metadata": {},
   "source": [
    "Displaying the frequency distribution for the android data set.\n",
    "Using the Genre and category column. We will start with the category column."
   ]
  },
  {
   "cell_type": "code",
   "execution_count": 37,
   "metadata": {
    "collapsed": false
   },
   "outputs": [
    {
     "name": "stdout",
     "output_type": "stream",
     "text": [
      "Tools : 8.449909747292418\n",
      "Entertainment : 6.069494584837545\n",
      "Education : 5.347472924187725\n",
      "Business : 4.591606498194946\n",
      "Productivity : 3.892148014440433\n",
      "Lifestyle : 3.892148014440433\n",
      "Finance : 3.7003610108303246\n",
      "Medical : 3.531137184115524\n",
      "Sports : 3.463447653429603\n",
      "Personalization : 3.3167870036101084\n",
      "Communication : 3.2378158844765346\n",
      "Action : 3.1024368231046933\n",
      "Health & Fitness : 3.0798736462093865\n",
      "Photography : 2.944494584837545\n",
      "News & Magazines : 2.7978339350180503\n",
      "Social : 2.6624548736462095\n",
      "Travel & Local : 2.3240072202166067\n",
      "Shopping : 2.2450361010830324\n",
      "Books & Reference : 2.1435018050541514\n",
      "Simulation : 2.0419675090252705\n",
      "Dating : 1.861462093862816\n",
      "Arcade : 1.8501805054151623\n",
      "Video Players & Editors : 1.7712093862815883\n",
      "Casual : 1.7599277978339352\n",
      "Maps & Navigation : 1.3989169675090252\n",
      "Food & Drink : 1.2409747292418771\n",
      "Puzzle : 1.128158844765343\n",
      "Racing : 0.9927797833935018\n",
      "Role Playing : 0.9363718411552346\n",
      "Libraries & Demo : 0.9363718411552346\n",
      "Auto & Vehicles : 0.9250902527075812\n",
      "Strategy : 0.9138086642599278\n",
      "House & Home : 0.8235559566787004\n",
      "Weather : 0.8009927797833934\n",
      "Events : 0.7107400722021661\n",
      "Adventure : 0.6768953068592057\n",
      "Comics : 0.6092057761732852\n",
      "Beauty : 0.5979241877256317\n",
      "Art & Design : 0.5979241877256317\n",
      "Parenting : 0.4963898916967509\n",
      "Card : 0.45126353790613716\n",
      "Casino : 0.42870036101083037\n",
      "Trivia : 0.41741877256317694\n",
      "Educational;Education : 0.39485559566787\n",
      "Board : 0.3835740072202166\n",
      "Educational : 0.3722924187725632\n",
      "Education;Education : 0.33844765342960287\n",
      "Word : 0.2594765342960289\n",
      "Casual;Pretend Play : 0.236913357400722\n",
      "Music : 0.2030685920577617\n",
      "Racing;Action & Adventure : 0.16922382671480143\n",
      "Puzzle;Brain Games : 0.16922382671480143\n",
      "Entertainment;Music & Video : 0.16922382671480143\n",
      "Casual;Brain Games : 0.13537906137184114\n",
      "Casual;Action & Adventure : 0.13537906137184114\n",
      "Arcade;Action & Adventure : 0.12409747292418773\n",
      "Action;Action & Adventure : 0.10153429602888085\n",
      "Educational;Pretend Play : 0.09025270758122744\n",
      "Simulation;Action & Adventure : 0.078971119133574\n",
      "Parenting;Education : 0.078971119133574\n",
      "Entertainment;Brain Games : 0.078971119133574\n",
      "Board;Brain Games : 0.078971119133574\n",
      "Parenting;Music & Video : 0.06768953068592057\n",
      "Educational;Brain Games : 0.06768953068592057\n",
      "Casual;Creativity : 0.06768953068592057\n",
      "Art & Design;Creativity : 0.06768953068592057\n",
      "Education;Pretend Play : 0.056407942238267145\n",
      "Role Playing;Pretend Play : 0.04512635379061372\n",
      "Education;Creativity : 0.04512635379061372\n",
      "Role Playing;Action & Adventure : 0.033844765342960284\n",
      "Puzzle;Action & Adventure : 0.033844765342960284\n",
      "Entertainment;Creativity : 0.033844765342960284\n",
      "Entertainment;Action & Adventure : 0.033844765342960284\n",
      "Educational;Creativity : 0.033844765342960284\n",
      "Educational;Action & Adventure : 0.033844765342960284\n",
      "Education;Music & Video : 0.033844765342960284\n",
      "Education;Brain Games : 0.033844765342960284\n",
      "Education;Action & Adventure : 0.033844765342960284\n",
      "Adventure;Action & Adventure : 0.033844765342960284\n",
      "Video Players & Editors;Music & Video : 0.02256317689530686\n",
      "Sports;Action & Adventure : 0.02256317689530686\n",
      "Simulation;Pretend Play : 0.02256317689530686\n",
      "Puzzle;Creativity : 0.02256317689530686\n",
      "Music;Music & Video : 0.02256317689530686\n",
      "Entertainment;Pretend Play : 0.02256317689530686\n",
      "Casual;Education : 0.02256317689530686\n",
      "Board;Action & Adventure : 0.02256317689530686\n",
      "Video Players & Editors;Creativity : 0.01128158844765343\n",
      "Trivia;Education : 0.01128158844765343\n",
      "Travel & Local;Action & Adventure : 0.01128158844765343\n",
      "Tools;Education : 0.01128158844765343\n",
      "Strategy;Education : 0.01128158844765343\n",
      "Strategy;Creativity : 0.01128158844765343\n",
      "Strategy;Action & Adventure : 0.01128158844765343\n",
      "Simulation;Education : 0.01128158844765343\n",
      "Role Playing;Brain Games : 0.01128158844765343\n",
      "Racing;Pretend Play : 0.01128158844765343\n",
      "Puzzle;Education : 0.01128158844765343\n",
      "Parenting;Brain Games : 0.01128158844765343\n",
      "Music & Audio;Music & Video : 0.01128158844765343\n",
      "Lifestyle;Pretend Play : 0.01128158844765343\n",
      "Lifestyle;Education : 0.01128158844765343\n",
      "Health & Fitness;Education : 0.01128158844765343\n",
      "Health & Fitness;Action & Adventure : 0.01128158844765343\n",
      "Entertainment;Education : 0.01128158844765343\n",
      "Communication;Creativity : 0.01128158844765343\n",
      "Comics;Creativity : 0.01128158844765343\n",
      "Casual;Music & Video : 0.01128158844765343\n",
      "Card;Action & Adventure : 0.01128158844765343\n",
      "Books & Reference;Education : 0.01128158844765343\n",
      "Art & Design;Pretend Play : 0.01128158844765343\n",
      "Art & Design;Action & Adventure : 0.01128158844765343\n",
      "Arcade;Pretend Play : 0.01128158844765343\n",
      "Adventure;Education : 0.01128158844765343\n"
     ]
    }
   ],
   "source": [
    "display_freq(android_final, -4)"
   ]
  },
  {
   "cell_type": "code",
   "execution_count": 34,
   "metadata": {
    "collapsed": false
   },
   "outputs": [
    {
     "name": "stdout",
     "output_type": "stream",
     "text": [
      "FAMILY : 18.907942238267147\n",
      "GAME : 9.724729241877256\n",
      "TOOLS : 8.461191335740072\n",
      "BUSINESS : 4.591606498194946\n",
      "LIFESTYLE : 3.9034296028880866\n",
      "PRODUCTIVITY : 3.892148014440433\n",
      "FINANCE : 3.7003610108303246\n",
      "MEDICAL : 3.531137184115524\n",
      "SPORTS : 3.395758122743682\n",
      "PERSONALIZATION : 3.3167870036101084\n",
      "COMMUNICATION : 3.2378158844765346\n",
      "HEALTH_AND_FITNESS : 3.0798736462093865\n",
      "PHOTOGRAPHY : 2.944494584837545\n",
      "NEWS_AND_MAGAZINES : 2.7978339350180503\n",
      "SOCIAL : 2.6624548736462095\n",
      "TRAVEL_AND_LOCAL : 2.33528880866426\n",
      "SHOPPING : 2.2450361010830324\n",
      "BOOKS_AND_REFERENCE : 2.1435018050541514\n",
      "DATING : 1.861462093862816\n",
      "VIDEO_PLAYERS : 1.7937725631768955\n",
      "MAPS_AND_NAVIGATION : 1.3989169675090252\n",
      "FOOD_AND_DRINK : 1.2409747292418771\n",
      "EDUCATION : 1.1620036101083033\n",
      "ENTERTAINMENT : 0.9589350180505415\n",
      "LIBRARIES_AND_DEMO : 0.9363718411552346\n",
      "AUTO_AND_VEHICLES : 0.9250902527075812\n",
      "HOUSE_AND_HOME : 0.8235559566787004\n",
      "WEATHER : 0.8009927797833934\n",
      "EVENTS : 0.7107400722021661\n",
      "PARENTING : 0.6543321299638989\n",
      "ART_AND_DESIGN : 0.6430505415162455\n",
      "COMICS : 0.6204873646209386\n",
      "BEAUTY : 0.5979241877256317\n"
     ]
    }
   ],
   "source": [
    "display_freq(android_final, 1) #category column"
   ]
  },
  {
   "cell_type": "markdown",
   "metadata": {},
   "source": [
    "From the above Displayed frequency we noticed apps on play store are more distributions with tolld been the highest with 8.44% follow by entertaiment 6.6%.\n",
    "\n",
    "Also there is no clear difference between the genre and catagory columns of this dataset. \n",
    "\n",
    "Play store doesn't exactly have a dominate app genre or catagory as in the case of Apps store which was predominated by games."
   ]
  },
  {
   "cell_type": "markdown",
   "metadata": {},
   "source": [
    "# Most Popular Apps by Genre on the App Store\n",
    "One way to find out what genres are the most popular (have the most users) is to calculate the average number of installs for each app genre. For the Google Play data set, we can find this information in the Installs column, but for the App Store data set this information is missing. As a workaround, we'll take the total number of user ratings as a proxy, which we can find in the rating_count_tot app.\n",
    "\n",
    "Below, we calculate the average number of user ratings per app genre on the App Store:"
   ]
  },
  {
   "cell_type": "code",
   "execution_count": 38,
   "metadata": {
    "collapsed": false
   },
   "outputs": [
    {
     "name": "stdout",
     "output_type": "stream",
     "text": [
      "Finance :  31467.944444444445\n",
      "Shopping :  26919.690476190477\n",
      "Travel :  28243.8\n",
      "Food & Drink :  33333.92307692308\n",
      "Games :  22788.6696905016\n",
      "Weather :  52279.892857142855\n",
      "Lifestyle :  16485.764705882353\n",
      "Utilities :  18684.456790123455\n",
      "Entertainment :  14029.830708661417\n",
      "Book :  39758.5\n",
      "Sports :  23008.898550724636\n",
      "Navigation :  86090.33333333333\n",
      "Health & Fitness :  23298.015384615384\n",
      "Education :  7003.983050847458\n",
      "Medical :  612.0\n",
      "Music :  57326.530303030304\n",
      "Reference :  74942.11111111111\n",
      "Catalogs :  4004.0\n",
      "News :  21248.023255813954\n",
      "Productivity :  21028.410714285714\n",
      "Business :  7491.117647058823\n",
      "Photo & Video :  28441.54375\n",
      "Social Networking :  71548.34905660378\n"
     ]
    }
   ],
   "source": [
    "ios_genres = freq_table(ios_final, -5)\n",
    "\n",
    "for genre in ios_genres:\n",
    "    total = 0\n",
    "    len_genre = 0\n",
    "    for app in ios_final:\n",
    "        genre_app = app[-5]\n",
    "        if genre_app == genre:\n",
    "            n_ratings = float(app[5])\n",
    "            total += n_ratings\n",
    "            len_genre += 1\n",
    "    \n",
    "    avg_genre_rating = total / len_genre\n",
    "    print(genre, ': ', avg_genre_rating )\n",
    "            \n",
    "        "
   ]
  },
  {
   "cell_type": "markdown",
   "metadata": {},
   "source": [
    "From the ratings you we will noticed navigations have the highest avg_rating on apps store. \n",
    "get more details on any of the genre. will use the News genre. we will print the name and the rating"
   ]
  },
  {
   "cell_type": "code",
   "execution_count": 40,
   "metadata": {
    "collapsed": false
   },
   "outputs": [
    {
     "name": "stdout",
     "output_type": "stream",
     "text": [
      "Twitter :  354058\n",
      "Fox News :  132703\n",
      "CNN: Breaking US & World News, Live Video :  112886\n",
      "Reddit Official App: All That's Trending and Viral :  67560\n",
      "USA TODAY :  61724\n",
      "ABC News - US & World News + Live Video :  48407\n",
      "NBC News :  32881\n",
      "HuffPost - News, Politics & Entertainment :  29107\n",
      "The Washington Post Classic :  18572\n",
      "WIRED Magazine :  12074\n",
      "CBS News - Watch Free Live Breaking News :  11691\n",
      "The Guardian :  8176\n",
      "AOL: News, Email, Weather & Video :  5233\n",
      "SmartNews - Trending News & Stories :  4645\n",
      "MSNBC :  3692\n",
      "LotteryHUB :  2417\n",
      "theSkimm :  1765\n",
      "Quartz • News in a whole new way :  1267\n",
      "Lotto Results - Mega Millions Powerball Lottery :  794\n",
      "TopBuzz: Best Viral Videos, GIFs, TV & News :  692\n",
      "Ticket Scanner for Powerball & MegaMillions Pool :  581\n",
      "FOCUS Online - Aktuelle Nachrichten :  373\n",
      "SPIEGEL ONLINE - Nachrichten :  299\n",
      "n-tv Nachrichten :  273\n",
      "CNN Politics :  254\n",
      "Tagesschau :  233\n",
      "Fresco — Be a part of the news :  219\n",
      "News Break - Local & World Breaking News & Radio :  173\n",
      "OPM Alert :  172\n",
      "franceinfo - l'actualité & les élections en direct :  162\n",
      "Sky News :  118\n",
      "BFMTV : l'info en continu :  115\n",
      "20 Minutes.fr - l'actualité en continu :  112\n",
      "FeedNews: AI curated social news for productivity :  73\n",
      "WSVN Hurricane Tracker :  40\n",
      "Election Center 2016 :  37\n",
      "Clown Spotter - Find Clowns Around You :  34\n",
      "US Presidential Election 2016 - Polls :  28\n",
      "State Council - Official Chinese government app :  25\n",
      "Smart Channel -New Style of News Reader- :  0\n",
      "KATWARN :  0\n",
      "GE's eddie :  0\n",
      "JCnews - Anime & Game Culture :  0\n"
     ]
    }
   ],
   "source": [
    "for app in ios_final:\n",
    "    if app[-5] == 'News':\n",
    "        print(app[1], ': ', app[5])"
   ]
  },
  {
   "cell_type": "code",
   "execution_count": 41,
   "metadata": {
    "collapsed": false
   },
   "outputs": [
    {
     "name": "stdout",
     "output_type": "stream",
     "text": [
      "Duolingo - Learn Spanish, French and more :  162701\n",
      "Guess My Age  Math Magic :  123190\n",
      "Lumosity - Brain Training :  96534\n",
      "Elevate - Brain Training and Games :  58092\n",
      "Fit Brains Trainer :  46363\n",
      "ClassDojo :  35440\n",
      "Memrise: learn languages :  20383\n",
      "Peak - Brain Training :  20322\n",
      "Canvas by Instructure :  19981\n",
      "ABCmouse.com - Early Learning Academy :  18749\n",
      "Quizlet: Study Flashcards, Languages & Vocabulary :  16683\n",
      "Photomath - Camera Calculator :  16523\n",
      "iTunes U :  15801\n",
      "Blackboard Mobile Learn™ :  13567\n",
      "Star Chart :  13482\n",
      "Remind: Fast, Efficient School Messaging :  9796\n",
      "PBS KIDS Video :  8651\n",
      "Toca Kitchen Monsters :  8062\n",
      "Toca Hair Salon - Christmas Gift :  8049\n",
      "Edmodo :  7197\n",
      "Prodigy Math Game :  6683\n",
      "Epic! - Unlimited Books for Kids :  6676\n",
      "ChineseSkill -Learn Mandarin Chinese Language Free :  6077\n",
      "Google Classroom :  5942\n",
      "TED :  5782\n",
      "Khan Academy: you can learn anything :  5459\n",
      "Got It - Homework Help Math, Chem, Physics Solver :  4903\n",
      "PowerSchool Mobile :  4547\n",
      "SkyView® Free - Explore the Universe :  4188\n",
      "Hopscotch :  4057\n",
      "IXL - Math and English :  3546\n",
      "Simply Piano by JoyTunes - Learn & play piano :  2925\n",
      "Kids A-Z :  2887\n",
      "Infinite Campus Mobile Portal :  2286\n",
      "PlayKids - Educational Cartoons and Games for Kids :  2196\n",
      "Memorado Brain Training for Memory & Mindfulness :  2067\n",
      "Bookshelf :  2064\n",
      "Mathway - Math Problem Solver :  1854\n",
      "Schoology :  1777\n",
      "HelloTalk Language Exchange Learning App :  1619\n",
      "SpellingCity :  1566\n",
      "Nick Jr. :  1541\n",
      "Babbel – Learn Languages Spanish, French & more :  1533\n",
      "Yup - Homework Help with Math & Science Tutors :  1424\n",
      "Mondly: Learn 33 Languages: Spanish English French :  1395\n",
      "WWF Together :  1385\n",
      "Tinycards - Learn with Fun, Free Flashcards :  1131\n",
      "Nearpod :  1057\n",
      "Starfall FREE :  1019\n",
      "Reflex Student :  1010\n",
      "GoldieBlox and the Movie Machine :  1000\n",
      "Pearson eText :  981\n",
      "codeSpark Academy with The Foos - coding for kids :  977\n",
      "Dr. Panda Restaurant Asia :  853\n",
      "NOGGIN - Preschool Shows & Educational Kids Videos :  782\n",
      "Tynker - Learn to Code. Programming Made Easy. :  771\n",
      "BrainHQ - Brain Training :  684\n",
      "Top Hat Lecture :  668\n",
      "Pearson eText for Schools :  609\n",
      "Curious World: Games, Videos, Books for Children :  604\n",
      "McGraw-Hill K-12 ConnectED Mobile :  594\n",
      "Socrative Student :  581\n",
      "Swift Playgrounds :  578\n",
      "MarcoPolo Ocean :  529\n",
      "TestNav :  491\n",
      "Starfall Learn to Read :  474\n",
      "Speakaboos Reading App: Stories & Songs for Kids :  440\n",
      "Bloxels: Build, Play & Share Your Own Video Games :  382\n",
      "GoNoodle Kids :  372\n",
      "Global Shark Tracker :  336\n",
      "The Robot Factory by Tinybop :  335\n",
      "Daniel Tiger’s Day & Night :  314\n",
      "Kahoot! Play Fun Learning Games :  300\n",
      "Spanish SOLO: Learn Spanish With Lessons On The Go :  275\n",
      "Math 42 :  248\n",
      "Star Walk 2 Ads+ Night Sky Map - Stars and Planets :  161\n",
      "Toca Dance Free :  149\n",
      "Endless Learning Academy :  143\n",
      "270toWin :  141\n",
      "Win the White House :  123\n",
      "Sago Mini Babies Dress Up :  115\n",
      "Nancy Drew Codes and Clues Mystery Coding Game :  110\n",
      "1600 :  110\n",
      "BEAKER by THIX :  94\n",
      "Highlights™ Shapes - Preschool Learning Puzzles :  90\n",
      "Little Panda's Candy Shop - Lollipop Factory :  84\n",
      "Mathpix - Solve and graph math using pictures :  83\n",
      "Blue Apprentice Elementary Science Game by Galxyz :  79\n",
      "PINKFONG Birthday Party :  70\n",
      "Hopster: Kids TV, Nursery Rhymes, Music, Fun Games :  58\n",
      "Sago Mini Holiday Trucks and Diggers :  56\n",
      "Dr. Panda Toy Cars Free :  51\n",
      "Virry Educational. Play, learn with real animals :  50\n",
      "Highlights Monster Day :  49\n",
      "PlayKids Learn - Learning through play :  49\n",
      "PBS KIDS ScratchJr :  38\n",
      "Lemon Lumberjack's Letter Mill :  34\n",
      "Ready Jet Go! Space Explorer :  34\n",
      "Chinese Recipes - Asian cuisine :  32\n",
      "Nature Cat's Great Outdoors :  31\n",
      "Show My Homework :  17\n",
      "PINKFONG 123 Numbers :  17\n",
      "Aquarium VR :  12\n",
      "Little Panda Mini Games-3D :  9\n",
      "Stylish School Timetable :  7\n",
      "Merry Christmas -Activities :  7\n",
      "Mastering the piano with Lang Lang :  6\n",
      "Baby Panda's Carnival :  6\n",
      "Driving test 2017 :  5\n",
      "Cutie Patootie - Xmas Surprise :  5\n",
      "Free IQ Test: Calculate your IQ :  5\n",
      "Beautiful Japanese Handwriting for iPhone :  0\n",
      "GhostCallDX :  0\n",
      "Baby Learns Transportation :  0\n",
      "Baby Panda's Bath Time :  0\n",
      "Beautiful Japanese Handwriting :  0\n",
      "Spring Festival by BabyBus :  0\n",
      "Dinosaur Planet :  0\n"
     ]
    }
   ],
   "source": [
    "for app in ios_final:\n",
    "    if app[-5] == 'Education':\n",
    "        print(app[1], ': ', app[5])"
   ]
  },
  {
   "cell_type": "markdown",
   "metadata": {},
   "source": [
    "Analyzing the Eduction genre we can see Duolingo learning app has the heighest number of ratings on Apps store"
   ]
  },
  {
   "cell_type": "markdown",
   "metadata": {},
   "source": [
    "# Most popuplar app on google play store by Genre\n",
    "\n",
    "In the previous section we come up with the app profile on App store based using the apps ratings. We will be looking at the google play store data using the number of instals to get our profile. \n",
    "\n",
    "But the number of installs isn't precised as google uses values like 10K+ downloads 10M+, ect.\n",
    "\n",
    "we will need to convent these numbers from string values to float. since we don't need the exact number of instal."
   ]
  },
  {
   "cell_type": "markdown",
   "metadata": {},
   "source": [
    "#### Let's look at our display frequency using number of install. \n",
    "this will help us see the nature of the install values"
   ]
  },
  {
   "cell_type": "code",
   "execution_count": 42,
   "metadata": {
    "collapsed": false
   },
   "outputs": [
    {
     "name": "stdout",
     "output_type": "stream",
     "text": [
      "1,000,000+ : 15.726534296028879\n",
      "100,000+ : 11.552346570397113\n",
      "10,000,000+ : 10.548285198555957\n",
      "10,000+ : 10.198555956678701\n",
      "1,000+ : 8.393501805054152\n",
      "100+ : 6.915613718411552\n",
      "5,000,000+ : 6.825361010830325\n",
      "500,000+ : 5.561823104693141\n",
      "50,000+ : 4.7721119133574\n",
      "5,000+ : 4.512635379061372\n",
      "10+ : 3.5424187725631766\n",
      "500+ : 3.2490974729241873\n",
      "50,000,000+ : 2.3014440433213\n",
      "100,000,000+ : 2.1322202166064983\n",
      "50+ : 1.917870036101083\n",
      "5+ : 0.78971119133574\n",
      "1+ : 0.5076714801444043\n",
      "500,000,000+ : 0.2707581227436823\n",
      "1,000,000,000+ : 0.22563176895306858\n",
      "0+ : 0.04512635379061372\n",
      "0 : 0.01128158844765343\n"
     ]
    }
   ],
   "source": [
    "display_freq(android_final, 5)"
   ]
  },
  {
   "cell_type": "markdown",
   "metadata": {},
   "source": [
    "#####  creating a frequency table for our various categories."
   ]
  },
  {
   "cell_type": "code",
   "execution_count": 46,
   "metadata": {
    "collapsed": false
   },
   "outputs": [
    {
     "name": "stdout",
     "output_type": "stream",
     "text": [
      "PHOTOGRAPHY :  17840110.40229885\n",
      "SOCIAL :  23253652.127118643\n",
      "SPORTS :  3638640.1428571427\n",
      "FAMILY :  3695641.8198090694\n",
      "ENTERTAINMENT :  11640705.88235294\n",
      "HOUSE_AND_HOME :  1331540.5616438356\n",
      "EDUCATION :  1833495.145631068\n",
      "MAPS_AND_NAVIGATION :  4056941.7741935486\n",
      "NEWS_AND_MAGAZINES :  9549178.467741935\n",
      "BOOKS_AND_REFERENCE :  8767811.894736841\n",
      "EVENTS :  253542.22222222222\n",
      "HEALTH_AND_FITNESS :  4188821.9853479853\n",
      "PRODUCTIVITY :  16787331.344927534\n",
      "TRAVEL_AND_LOCAL :  13984077.710144928\n",
      "FINANCE :  1387692.475609756\n",
      "FOOD_AND_DRINK :  1924897.7363636363\n",
      "BUSINESS :  1712290.1474201474\n",
      "BEAUTY :  513151.88679245283\n",
      "SHOPPING :  7036877.311557789\n",
      "LIBRARIES_AND_DEMO :  638503.734939759\n",
      "COMICS :  817657.2727272727\n",
      "DATING :  854028.8303030303\n",
      "TOOLS :  10801391.298666667\n",
      "WEATHER :  5074486.197183099\n",
      "LIFESTYLE :  1437816.2687861272\n",
      "AUTO_AND_VEHICLES :  647317.8170731707\n",
      "GAME :  15588015.603248259\n",
      "PERSONALIZATION :  5201482.6122448975\n",
      "ART_AND_DESIGN :  1986335.0877192982\n",
      "VIDEO_PLAYERS :  24727872.452830188\n",
      "MEDICAL :  120550.61980830671\n",
      "PARENTING :  542603.6206896552\n",
      "COMMUNICATION :  38456119.167247385\n"
     ]
    }
   ],
   "source": [
    "android_categories = freq_table(android_final, 1)\n",
    "\n",
    "for category in android_categories:\n",
    "    total = 0\n",
    "    len_category = 0\n",
    "    for app in android_final:\n",
    "        category_app = app[1]\n",
    "        if category_app == category:\n",
    "            num_installs = app[5]\n",
    "            num_installs = num_installs.replace('+', '')\n",
    "            num_installs = num_installs.replace(',', '')\n",
    "            num_installs = float(num_installs)\n",
    "            total += num_installs\n",
    "            len_category += 1\n",
    "    \n",
    "    avg_num_installs = total / len_category\n",
    "    print(category, ': ', avg_num_installs)\n",
    "            "
   ]
  },
  {
   "cell_type": "markdown",
   "metadata": {},
   "source": [
    "From the average number of installs from the various categories we noticed that communications apps have the highest number of installs on average followed by socail apps. \n",
    "\n",
    "we will take a closer look at it to examine which apps have greatly influnces these installs."
   ]
  },
  {
   "cell_type": "code",
   "execution_count": 47,
   "metadata": {
    "collapsed": false
   },
   "outputs": [
    {
     "name": "stdout",
     "output_type": "stream",
     "text": [
      "WhatsApp Messenger : 1,000,000,000+\n",
      "imo beta free calls and text : 100,000,000+\n",
      "Android Messages : 100,000,000+\n",
      "Google Duo - High Quality Video Calls : 500,000,000+\n",
      "Messenger – Text and Video Chat for Free : 1,000,000,000+\n",
      "imo free video calls and chat : 500,000,000+\n",
      "Skype - free IM & video calls : 1,000,000,000+\n",
      "Who : 100,000,000+\n",
      "GO SMS Pro - Messenger, Free Themes, Emoji : 100,000,000+\n",
      "LINE: Free Calls & Messages : 500,000,000+\n",
      "Google Chrome: Fast & Secure : 1,000,000,000+\n",
      "Firefox Browser fast & private : 100,000,000+\n",
      "UC Browser - Fast Download Private & Secure : 500,000,000+\n",
      "Gmail : 1,000,000,000+\n",
      "Hangouts : 1,000,000,000+\n",
      "Messenger Lite: Free Calls & Messages : 100,000,000+\n",
      "Kik : 100,000,000+\n",
      "KakaoTalk: Free Calls & Text : 100,000,000+\n",
      "Opera Mini - fast web browser : 100,000,000+\n",
      "Opera Browser: Fast and Secure : 100,000,000+\n",
      "Telegram : 100,000,000+\n",
      "Truecaller: Caller ID, SMS spam blocking & Dialer : 100,000,000+\n",
      "UC Browser Mini -Tiny Fast Private & Secure : 100,000,000+\n",
      "Viber Messenger : 500,000,000+\n",
      "WeChat : 100,000,000+\n",
      "Yahoo Mail – Stay Organized : 100,000,000+\n",
      "BBM - Free Calls & Messages : 100,000,000+\n"
     ]
    }
   ],
   "source": [
    "for app in android_final:\n",
    "    if app[1] == 'COMMUNICATION' and (app[5] == '1,000,000,000+'\n",
    "                                      or app[5] == '500,000,000+'\n",
    "                                      or app[5] == '100,000,000+'):\n",
    "        print(app[0], ':', app[5])"
   ]
  },
  {
   "cell_type": "code",
   "execution_count": 48,
   "metadata": {
    "collapsed": false
   },
   "outputs": [
    {
     "name": "stdout",
     "output_type": "stream",
     "text": [
      "Facebook : 1,000,000,000+\n",
      "Facebook Lite : 500,000,000+\n",
      "Tumblr : 100,000,000+\n",
      "Pinterest : 100,000,000+\n",
      "Google+ : 1,000,000,000+\n",
      "Badoo - Free Chat & Dating App : 100,000,000+\n",
      "Tango - Live Video Broadcast : 100,000,000+\n",
      "Instagram : 1,000,000,000+\n",
      "Snapchat : 500,000,000+\n",
      "LinkedIn : 100,000,000+\n",
      "Tik Tok - including musical.ly : 100,000,000+\n",
      "BIGO LIVE - Live Stream : 100,000,000+\n",
      "VK : 100,000,000+\n"
     ]
    }
   ],
   "source": [
    "for app in android_final:\n",
    "    if app[1] == 'SOCIAL' and (app[5] == '1,000,000,000+'\n",
    "                                      or app[5] == '500,000,000+'\n",
    "                                      or app[5] == '100,000,000+'):\n",
    "        print(app[0], ':', app[5])"
   ]
  },
  {
   "cell_type": "code",
   "execution_count": null,
   "metadata": {
    "collapsed": true
   },
   "outputs": [],
   "source": []
  }
 ],
 "metadata": {
  "kernelspec": {
   "display_name": "Python 3",
   "language": "python",
   "name": "python3"
  },
  "language_info": {
   "codemirror_mode": {
    "name": "ipython",
    "version": 3
   },
   "file_extension": ".py",
   "mimetype": "text/x-python",
   "name": "python",
   "nbconvert_exporter": "python",
   "pygments_lexer": "ipython3",
   "version": "3.4.3"
  }
 },
 "nbformat": 4,
 "nbformat_minor": 2
}
